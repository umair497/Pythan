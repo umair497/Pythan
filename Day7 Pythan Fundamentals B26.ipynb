{
 "cells": [
  {
   "cell_type": "code",
   "execution_count": null,
   "metadata": {},
   "outputs": [],
   "source": [
    "continuation of list:"
   ]
  },
  {
   "cell_type": "code",
   "execution_count": null,
   "metadata": {},
   "outputs": [],
   "source": []
  },
  {
   "cell_type": "code",
   "execution_count": 2,
   "metadata": {},
   "outputs": [],
   "source": [
    "students = ['shabista','kiran','paul','reema','zain','keerthi','zainab']"
   ]
  },
  {
   "cell_type": "code",
   "execution_count": 3,
   "metadata": {},
   "outputs": [
    {
     "name": "stdout",
     "output_type": "stream",
     "text": [
      "['shabista', 'kiran', 'paul', 'reema', 'zain', 'keerthi', 'zainab']\n"
     ]
    }
   ],
   "source": [
    "print(students)"
   ]
  },
  {
   "cell_type": "code",
   "execution_count": null,
   "metadata": {},
   "outputs": [],
   "source": [
    "req: i want to print this list in a reverse order....?"
   ]
  },
  {
   "cell_type": "code",
   "execution_count": 4,
   "metadata": {},
   "outputs": [],
   "source": [
    "students.reverse()"
   ]
  },
  {
   "cell_type": "code",
   "execution_count": 5,
   "metadata": {},
   "outputs": [
    {
     "name": "stdout",
     "output_type": "stream",
     "text": [
      "['zainab', 'keerthi', 'zain', 'reema', 'paul', 'kiran', 'shabista']\n"
     ]
    }
   ],
   "source": [
    "print(students)"
   ]
  },
  {
   "cell_type": "code",
   "execution_count": null,
   "metadata": {},
   "outputs": [],
   "source": [
    "introduction to looping statements:"
   ]
  },
  {
   "cell_type": "code",
   "execution_count": null,
   "metadata": {},
   "outputs": [],
   "source": [
    "for looping:"
   ]
  },
  {
   "cell_type": "code",
   "execution_count": null,
   "metadata": {},
   "outputs": [],
   "source": [
    "# general syntax of for loop."
   ]
  },
  {
   "cell_type": "code",
   "execution_count": null,
   "metadata": {},
   "outputs": [],
   "source": [
    "for temporary variable in mainvariable:    # formula....!\n",
    "    print(temporary variable)"
   ]
  },
  {
   "cell_type": "code",
   "execution_count": 6,
   "metadata": {},
   "outputs": [
    {
     "name": "stdout",
     "output_type": "stream",
     "text": [
      "zainab\n",
      "keerthi\n",
      "zain\n",
      "reema\n",
      "paul\n",
      "kiran\n",
      "shabista\n"
     ]
    }
   ],
   "source": [
    "for x in students:\n",
    "    print(x)"
   ]
  },
  {
   "cell_type": "code",
   "execution_count": 7,
   "metadata": {},
   "outputs": [
    {
     "name": "stdout",
     "output_type": "stream",
     "text": [
      "zainab\n",
      "keerthi\n",
      "zain\n",
      "reema\n",
      "paul\n",
      "kiran\n",
      "shabista\n"
     ]
    }
   ],
   "source": [
    "for a in students:\n",
    "    print(a)"
   ]
  },
  {
   "cell_type": "code",
   "execution_count": 8,
   "metadata": {},
   "outputs": [
    {
     "name": "stdout",
     "output_type": "stream",
     "text": [
      "['zainab', 'keerthi', 'zain', 'reema', 'paul', 'kiran', 'shabista']\n"
     ]
    }
   ],
   "source": [
    "print(students)"
   ]
  },
  {
   "cell_type": "code",
   "execution_count": 9,
   "metadata": {},
   "outputs": [
    {
     "name": "stdout",
     "output_type": "stream",
     "text": [
      "keep up the good work,Zainab\n"
     ]
    }
   ],
   "source": [
    "print(f\"keep up the good work,{students[0].title()}\")"
   ]
  },
  {
   "cell_type": "code",
   "execution_count": 10,
   "metadata": {},
   "outputs": [
    {
     "name": "stdout",
     "output_type": "stream",
     "text": [
      "keep up the good work,Keerthi\n"
     ]
    }
   ],
   "source": [
    "print(f\"keep up the good work,{students[1].title()}\")"
   ]
  },
  {
   "cell_type": "code",
   "execution_count": 12,
   "metadata": {},
   "outputs": [
    {
     "name": "stdout",
     "output_type": "stream",
     "text": [
      "keep up the good work, zainab\n",
      "keep up the good work, keerthi\n",
      "keep up the good work, zain\n",
      "keep up the good work, reema\n",
      "keep up the good work, paul\n",
      "keep up the good work, kiran\n",
      "keep up the good work, shabista\n"
     ]
    }
   ],
   "source": [
    "for x in students:\n",
    "    print(f\"keep up the good work, {x}\")"
   ]
  },
  {
   "cell_type": "code",
   "execution_count": null,
   "metadata": {},
   "outputs": [],
   "source": [
    "# enhancement of the code...! \n",
    "i am looking to received your practise file of today as well."
   ]
  },
  {
   "cell_type": "code",
   "execution_count": 13,
   "metadata": {},
   "outputs": [
    {
     "name": "stdout",
     "output_type": "stream",
     "text": [
      "keep up the good work, zainab\n",
      "i am looking to received your practise file of today as well, zainab\n",
      "keep up the good work, keerthi\n",
      "i am looking to received your practise file of today as well, keerthi\n",
      "keep up the good work, zain\n",
      "i am looking to received your practise file of today as well, zain\n",
      "keep up the good work, reema\n",
      "i am looking to received your practise file of today as well, reema\n",
      "keep up the good work, paul\n",
      "i am looking to received your practise file of today as well, paul\n",
      "keep up the good work, kiran\n",
      "i am looking to received your practise file of today as well, kiran\n",
      "keep up the good work, shabista\n",
      "i am looking to received your practise file of today as well, shabista\n"
     ]
    }
   ],
   "source": [
    "for x in students:\n",
    "    print(f\"keep up the good work, {x}\")\n",
    "    print(f\"i am looking to received your practise file of today as well, {x}\")"
   ]
  },
  {
   "cell_type": "code",
   "execution_count": null,
   "metadata": {},
   "outputs": [],
   "source": []
  },
  {
   "cell_type": "code",
   "execution_count": null,
   "metadata": {},
   "outputs": [],
   "source": [
    "# improvisation of code...!"
   ]
  },
  {
   "cell_type": "code",
   "execution_count": 17,
   "metadata": {},
   "outputs": [
    {
     "name": "stdout",
     "output_type": "stream",
     "text": [
      "keep up the good work, zainab\n",
      "i am looking to received your practise file of today as well, zainab.\n",
      "\n",
      "keep up the good work, keerthi\n",
      "i am looking to received your practise file of today as well, keerthi.\n",
      "\n",
      "keep up the good work, zain\n",
      "i am looking to received your practise file of today as well, zain.\n",
      "\n",
      "keep up the good work, reema\n",
      "i am looking to received your practise file of today as well, reema.\n",
      "\n",
      "keep up the good work, paul\n",
      "i am looking to received your practise file of today as well, paul.\n",
      "\n",
      "keep up the good work, kiran\n",
      "i am looking to received your practise file of today as well, kiran.\n",
      "\n",
      "keep up the good work, shabista\n",
      "i am looking to received your practise file of today as well, shabista.\n",
      "\n",
      "thankyou all of you for choosing the pythan sessions\n"
     ]
    }
   ],
   "source": [
    "for x in students:\n",
    "     print(f\"keep up the good work, {x}\")\n",
    "     print(f\"i am looking to received your practise file of today as well, {x}.\\n\")\n",
    "print(\"thankyou all of you for choosing the pythan sessions\")    "
   ]
  },
  {
   "cell_type": "code",
   "execution_count": null,
   "metadata": {},
   "outputs": [],
   "source": []
  },
  {
   "cell_type": "code",
   "execution_count": null,
   "metadata": {},
   "outputs": [],
   "source": []
  }
 ],
 "metadata": {
  "kernelspec": {
   "display_name": "Python 3",
   "language": "python",
   "name": "python3"
  },
  "language_info": {
   "codemirror_mode": {
    "name": "ipython",
    "version": 3
   },
   "file_extension": ".py",
   "mimetype": "text/x-python",
   "name": "python",
   "nbconvert_exporter": "python",
   "pygments_lexer": "ipython3",
   "version": "3.8.3"
  }
 },
 "nbformat": 4,
 "nbformat_minor": 4
}
